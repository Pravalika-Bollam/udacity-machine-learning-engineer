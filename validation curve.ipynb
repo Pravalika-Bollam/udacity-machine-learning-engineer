{
 "cells": [
  {
   "cell_type": "code",
   "execution_count": 33,
   "id": "14a648ed",
   "metadata": {},
   "outputs": [],
   "source": [
    "import numpy as np\n",
    "import pandas as pd"
   ]
  },
  {
   "cell_type": "code",
   "execution_count": 34,
   "id": "f24a8121",
   "metadata": {},
   "outputs": [],
   "source": [
    "data = pd.read_csv(\"C:\\\\Users\\\\prava\\\\Downloads\\\\housing.csv\")"
   ]
  },
  {
   "cell_type": "code",
   "execution_count": 35,
   "id": "c0375444",
   "metadata": {},
   "outputs": [
    {
     "data": {
      "text/html": [
       "<div>\n",
       "<style scoped>\n",
       "    .dataframe tbody tr th:only-of-type {\n",
       "        vertical-align: middle;\n",
       "    }\n",
       "\n",
       "    .dataframe tbody tr th {\n",
       "        vertical-align: top;\n",
       "    }\n",
       "\n",
       "    .dataframe thead th {\n",
       "        text-align: right;\n",
       "    }\n",
       "</style>\n",
       "<table border=\"1\" class=\"dataframe\">\n",
       "  <thead>\n",
       "    <tr style=\"text-align: right;\">\n",
       "      <th></th>\n",
       "      <th>RM</th>\n",
       "      <th>LSTAT</th>\n",
       "      <th>PTRATIO</th>\n",
       "      <th>MEDV</th>\n",
       "    </tr>\n",
       "  </thead>\n",
       "  <tbody>\n",
       "    <tr>\n",
       "      <th>0</th>\n",
       "      <td>6.575</td>\n",
       "      <td>4.98</td>\n",
       "      <td>15.3</td>\n",
       "      <td>504000.0</td>\n",
       "    </tr>\n",
       "    <tr>\n",
       "      <th>1</th>\n",
       "      <td>6.421</td>\n",
       "      <td>9.14</td>\n",
       "      <td>17.8</td>\n",
       "      <td>453600.0</td>\n",
       "    </tr>\n",
       "    <tr>\n",
       "      <th>2</th>\n",
       "      <td>7.185</td>\n",
       "      <td>4.03</td>\n",
       "      <td>17.8</td>\n",
       "      <td>728700.0</td>\n",
       "    </tr>\n",
       "    <tr>\n",
       "      <th>3</th>\n",
       "      <td>6.998</td>\n",
       "      <td>2.94</td>\n",
       "      <td>18.7</td>\n",
       "      <td>701400.0</td>\n",
       "    </tr>\n",
       "    <tr>\n",
       "      <th>4</th>\n",
       "      <td>7.147</td>\n",
       "      <td>5.33</td>\n",
       "      <td>18.7</td>\n",
       "      <td>760200.0</td>\n",
       "    </tr>\n",
       "  </tbody>\n",
       "</table>\n",
       "</div>"
      ],
      "text/plain": [
       "      RM  LSTAT  PTRATIO      MEDV\n",
       "0  6.575   4.98     15.3  504000.0\n",
       "1  6.421   9.14     17.8  453600.0\n",
       "2  7.185   4.03     17.8  728700.0\n",
       "3  6.998   2.94     18.7  701400.0\n",
       "4  7.147   5.33     18.7  760200.0"
      ]
     },
     "execution_count": 35,
     "metadata": {},
     "output_type": "execute_result"
    }
   ],
   "source": [
    "data.head()"
   ]
  },
  {
   "cell_type": "code",
   "execution_count": 36,
   "id": "5aee61b2",
   "metadata": {},
   "outputs": [],
   "source": [
    "X = np.array(data[['RM', 'LSTAT', 'PTRATIO']])"
   ]
  },
  {
   "cell_type": "code",
   "execution_count": 37,
   "id": "4b05d9ea",
   "metadata": {},
   "outputs": [
    {
     "data": {
      "text/plain": [
       "array([[ 6.575,  4.98 , 15.3  ],\n",
       "       [ 6.421,  9.14 , 17.8  ],\n",
       "       [ 7.185,  4.03 , 17.8  ],\n",
       "       [ 6.998,  2.94 , 18.7  ],\n",
       "       [ 7.147,  5.33 , 18.7  ]])"
      ]
     },
     "execution_count": 37,
     "metadata": {},
     "output_type": "execute_result"
    }
   ],
   "source": [
    "X[:5]"
   ]
  },
  {
   "cell_type": "code",
   "execution_count": 38,
   "id": "79b9ac3c",
   "metadata": {},
   "outputs": [],
   "source": [
    "X2 = np.array(data.iloc[:, :-1])"
   ]
  },
  {
   "cell_type": "code",
   "execution_count": 39,
   "id": "7074baa0",
   "metadata": {},
   "outputs": [
    {
     "data": {
      "text/plain": [
       "array([[ 6.575,  4.98 , 15.3  ],\n",
       "       [ 6.421,  9.14 , 17.8  ],\n",
       "       [ 7.185,  4.03 , 17.8  ],\n",
       "       ...,\n",
       "       [ 6.976,  5.64 , 21.   ],\n",
       "       [ 6.794,  6.48 , 21.   ],\n",
       "       [ 6.03 ,  7.88 , 21.   ]])"
      ]
     },
     "execution_count": 39,
     "metadata": {},
     "output_type": "execute_result"
    }
   ],
   "source": [
    "X2"
   ]
  },
  {
   "cell_type": "code",
   "execution_count": 40,
   "id": "744e282e",
   "metadata": {},
   "outputs": [
    {
     "data": {
      "text/plain": [
       "(489, 3)"
      ]
     },
     "execution_count": 40,
     "metadata": {},
     "output_type": "execute_result"
    }
   ],
   "source": [
    "X2.shape"
   ]
  },
  {
   "cell_type": "code",
   "execution_count": 41,
   "id": "f5836a92",
   "metadata": {},
   "outputs": [
    {
     "data": {
      "text/plain": [
       "(489, 3)"
      ]
     },
     "execution_count": 41,
     "metadata": {},
     "output_type": "execute_result"
    }
   ],
   "source": [
    "X.shape"
   ]
  },
  {
   "cell_type": "code",
   "execution_count": 42,
   "id": "8fe5475d",
   "metadata": {},
   "outputs": [],
   "source": [
    "y = np.array(data.iloc[:, -1])"
   ]
  },
  {
   "cell_type": "code",
   "execution_count": 43,
   "id": "56ae13f0",
   "metadata": {},
   "outputs": [
    {
     "data": {
      "text/plain": [
       "array([504000., 453600., 728700., 701400., 760200.])"
      ]
     },
     "execution_count": 43,
     "metadata": {},
     "output_type": "execute_result"
    }
   ],
   "source": [
    "y[:5]"
   ]
  },
  {
   "cell_type": "code",
   "execution_count": 44,
   "id": "134645d0",
   "metadata": {},
   "outputs": [],
   "source": [
    "df_features = data.drop('MEDV', axis = 1)"
   ]
  },
  {
   "cell_type": "code",
   "execution_count": 45,
   "id": "befcba86",
   "metadata": {},
   "outputs": [
    {
     "data": {
      "text/html": [
       "<div>\n",
       "<style scoped>\n",
       "    .dataframe tbody tr th:only-of-type {\n",
       "        vertical-align: middle;\n",
       "    }\n",
       "\n",
       "    .dataframe tbody tr th {\n",
       "        vertical-align: top;\n",
       "    }\n",
       "\n",
       "    .dataframe thead th {\n",
       "        text-align: right;\n",
       "    }\n",
       "</style>\n",
       "<table border=\"1\" class=\"dataframe\">\n",
       "  <thead>\n",
       "    <tr style=\"text-align: right;\">\n",
       "      <th></th>\n",
       "      <th>RM</th>\n",
       "      <th>LSTAT</th>\n",
       "      <th>PTRATIO</th>\n",
       "    </tr>\n",
       "  </thead>\n",
       "  <tbody>\n",
       "    <tr>\n",
       "      <th>0</th>\n",
       "      <td>6.575</td>\n",
       "      <td>4.98</td>\n",
       "      <td>15.3</td>\n",
       "    </tr>\n",
       "    <tr>\n",
       "      <th>1</th>\n",
       "      <td>6.421</td>\n",
       "      <td>9.14</td>\n",
       "      <td>17.8</td>\n",
       "    </tr>\n",
       "    <tr>\n",
       "      <th>2</th>\n",
       "      <td>7.185</td>\n",
       "      <td>4.03</td>\n",
       "      <td>17.8</td>\n",
       "    </tr>\n",
       "    <tr>\n",
       "      <th>3</th>\n",
       "      <td>6.998</td>\n",
       "      <td>2.94</td>\n",
       "      <td>18.7</td>\n",
       "    </tr>\n",
       "    <tr>\n",
       "      <th>4</th>\n",
       "      <td>7.147</td>\n",
       "      <td>5.33</td>\n",
       "      <td>18.7</td>\n",
       "    </tr>\n",
       "    <tr>\n",
       "      <th>...</th>\n",
       "      <td>...</td>\n",
       "      <td>...</td>\n",
       "      <td>...</td>\n",
       "    </tr>\n",
       "    <tr>\n",
       "      <th>484</th>\n",
       "      <td>6.593</td>\n",
       "      <td>9.67</td>\n",
       "      <td>21.0</td>\n",
       "    </tr>\n",
       "    <tr>\n",
       "      <th>485</th>\n",
       "      <td>6.120</td>\n",
       "      <td>9.08</td>\n",
       "      <td>21.0</td>\n",
       "    </tr>\n",
       "    <tr>\n",
       "      <th>486</th>\n",
       "      <td>6.976</td>\n",
       "      <td>5.64</td>\n",
       "      <td>21.0</td>\n",
       "    </tr>\n",
       "    <tr>\n",
       "      <th>487</th>\n",
       "      <td>6.794</td>\n",
       "      <td>6.48</td>\n",
       "      <td>21.0</td>\n",
       "    </tr>\n",
       "    <tr>\n",
       "      <th>488</th>\n",
       "      <td>6.030</td>\n",
       "      <td>7.88</td>\n",
       "      <td>21.0</td>\n",
       "    </tr>\n",
       "  </tbody>\n",
       "</table>\n",
       "<p>489 rows × 3 columns</p>\n",
       "</div>"
      ],
      "text/plain": [
       "        RM  LSTAT  PTRATIO\n",
       "0    6.575   4.98     15.3\n",
       "1    6.421   9.14     17.8\n",
       "2    7.185   4.03     17.8\n",
       "3    6.998   2.94     18.7\n",
       "4    7.147   5.33     18.7\n",
       "..     ...    ...      ...\n",
       "484  6.593   9.67     21.0\n",
       "485  6.120   9.08     21.0\n",
       "486  6.976   5.64     21.0\n",
       "487  6.794   6.48     21.0\n",
       "488  6.030   7.88     21.0\n",
       "\n",
       "[489 rows x 3 columns]"
      ]
     },
     "execution_count": 45,
     "metadata": {},
     "output_type": "execute_result"
    }
   ],
   "source": [
    "df_features"
   ]
  },
  {
   "cell_type": "code",
   "execution_count": 46,
   "id": "0f7437c6",
   "metadata": {},
   "outputs": [],
   "source": [
    "df_target = data['MEDV']"
   ]
  },
  {
   "cell_type": "code",
   "execution_count": 47,
   "id": "6f8587e1",
   "metadata": {},
   "outputs": [
    {
     "data": {
      "text/plain": [
       "454342.9447852761"
      ]
     },
     "execution_count": 47,
     "metadata": {},
     "output_type": "execute_result"
    }
   ],
   "source": [
    "price_mean = df_target.mean()\n",
    "price_mean"
   ]
  },
  {
   "cell_type": "code",
   "execution_count": 48,
   "id": "b49d05b7",
   "metadata": {},
   "outputs": [
    {
     "data": {
      "text/plain": [
       "105000.0"
      ]
     },
     "execution_count": 48,
     "metadata": {},
     "output_type": "execute_result"
    }
   ],
   "source": [
    "price_min = df_target.min()\n",
    "price_min"
   ]
  },
  {
   "cell_type": "code",
   "execution_count": 49,
   "id": "428a6282",
   "metadata": {},
   "outputs": [
    {
     "data": {
      "text/plain": [
       "1024800.0"
      ]
     },
     "execution_count": 49,
     "metadata": {},
     "output_type": "execute_result"
    }
   ],
   "source": [
    "price_max = df_target.max()\n",
    "price_max"
   ]
  },
  {
   "cell_type": "code",
   "execution_count": 50,
   "id": "a6c6e12c",
   "metadata": {},
   "outputs": [
    {
     "data": {
      "text/plain": [
       "438900.0"
      ]
     },
     "execution_count": 50,
     "metadata": {},
     "output_type": "execute_result"
    }
   ],
   "source": [
    "price_median = df_target.median()\n",
    "price_median"
   ]
  },
  {
   "cell_type": "code",
   "execution_count": 51,
   "id": "89515e79",
   "metadata": {},
   "outputs": [
    {
     "data": {
      "text/plain": [
       "<bound method Series.idxmax of 525000.0    8\n",
       "485100.0    7\n",
       "462000.0    7\n",
       "455700.0    7\n",
       "407400.0    6\n",
       "           ..\n",
       "690900.0    1\n",
       "726600.0    1\n",
       "636300.0    1\n",
       "699300.0    1\n",
       "170100.0    1\n",
       "Name: MEDV, Length: 228, dtype: int64>"
      ]
     },
     "execution_count": 51,
     "metadata": {},
     "output_type": "execute_result"
    }
   ],
   "source": [
    "repeat_price = df_target.value_counts().idxmax\n",
    "repeat_price"
   ]
  },
  {
   "cell_type": "code",
   "execution_count": 52,
   "id": "0464e862",
   "metadata": {},
   "outputs": [],
   "source": [
    "from sklearn.metrics import r2_score\n",
    "def performance_metric(y_true, y_predict):\n",
    "    score = r2_score(y_true, y_predict)\n",
    "    return score"
   ]
  },
  {
   "cell_type": "code",
   "execution_count": 53,
   "id": "c15f6763",
   "metadata": {},
   "outputs": [
    {
     "name": "stdout",
     "output_type": "stream",
     "text": [
      "Model has a coefficient of determination, R^2, of 0.923.\n"
     ]
    }
   ],
   "source": [
    "score = performance_metric([3, -0.5, 2, 7, 4.2], [2.5, 0.0, 2.1, 7.8, 5.3])\n",
    "print(\"Model has a coefficient of determination, R^2, of {:.3f}.\".format(score))"
   ]
  },
  {
   "cell_type": "code",
   "execution_count": 54,
   "id": "3c45b5f6",
   "metadata": {},
   "outputs": [],
   "source": [
    "#the r2_score with 0.923 says that 92 percent of variance in y is predicted from x"
   ]
  },
  {
   "cell_type": "code",
   "execution_count": null,
   "id": "900f4b6c",
   "metadata": {},
   "outputs": [],
   "source": []
  },
  {
   "cell_type": "code",
   "execution_count": 55,
   "id": "a1abea5d",
   "metadata": {},
   "outputs": [],
   "source": [
    "# to shuffle and split\n",
    "def randomize(X, y):\n",
    "    perm = np.random.permutation(y.shape[0])\n",
    "    X2 = X[perm, :]\n",
    "    y2 = y[perm]\n",
    "    return X2, y2\n",
    "\n",
    "X2, y2 = randomize(X, y)\n",
    "\n",
    "from sklearn.model_selection import train_test_split\n",
    "X_train, X_test, y_train, y_test = train_test_split(X2, y2, random_state = 1, test_size = 0.2)"
   ]
  },
  {
   "cell_type": "code",
   "execution_count": 56,
   "id": "2d88ac85",
   "metadata": {},
   "outputs": [
    {
     "name": "stdout",
     "output_type": "stream",
     "text": [
      "(391, 3) (98, 3) (391,) (98,)\n"
     ]
    }
   ],
   "source": [
    "print(X_train.shape, X_test.shape, y_train.shape, y_test.shape)"
   ]
  },
  {
   "cell_type": "code",
   "execution_count": 57,
   "id": "b9dd1503",
   "metadata": {},
   "outputs": [],
   "source": [
    "import matplotlib.pyplot as plt"
   ]
  },
  {
   "cell_type": "code",
   "execution_count": 58,
   "id": "50cb83dd",
   "metadata": {},
   "outputs": [],
   "source": [
    "from sklearn.model_selection import validation_curve\n",
    "\n",
    "def plot_validation_curve( estimator,X2, y2, param_name, param_range, cv):\n",
    "    train_scores, test_scores = validation_curve(estimator, X2, y2,param_name =  param_name,param_range =  param_range, cv = cv)\n",
    "    train_mean = np.mean(train_scores, axis = 1)\n",
    "    test_mean = np.mean(test_scores, axis = 1)\n",
    "    plt.plot(param_range ,train_mean, 'o-', color = 'g', label = \"train_score\")\n",
    "    plt.plot(param_range, test_mean, 'o-', color = 'b', label = \"val score\")\n",
    "    plt.ylim(0,1)\n",
    "    plt.legend()\n",
    "    plt.title(estimator)\n",
    "    plt.show()"
   ]
  },
  {
   "cell_type": "code",
   "execution_count": 59,
   "id": "5db41e92",
   "metadata": {},
   "outputs": [
    {
     "name": "stderr",
     "output_type": "stream",
     "text": [
      "C:\\Users\\prava\\anaconda3\\lib\\site-packages\\sklearn\\model_selection\\_split.py:700: UserWarning: The least populated class in y has only 1 members, which is less than n_splits=3.\n",
      "  warnings.warn(\n"
     ]
    },
    {
     "data": {
      "image/png": "[encoded data removed]",
      "text/plain": [
       "<Figure size 640x480 with 1 Axes>"
      ]
     },
     "metadata": {},
     "output_type": "display_data"
    }
   ],
   "source": [
    "from sklearn.tree import DecisionTreeClassifier\n",
    "clf = DecisionTreeClassifier()\n",
    "plot_validation_curve(clf,X2,  y2, 'max_depth' , list(range(30)), 3)"
   ]
  },
  {
   "cell_type": "code",
   "execution_count": 60,
   "id": "7d2657a1",
   "metadata": {},
   "outputs": [
    {
     "data": {
      "image/png": "[encoded data removed]",
      "text/plain": [
       "<Figure size 640x480 with 1 Axes>"
      ]
     },
     "metadata": {},
     "output_type": "display_data"
    }
   ],
   "source": [
    "from sklearn.linear_model import Ridge\n",
    "rid = Ridge()\n",
    "plot_validation_curve(rid, X2, y2, 'alpha', [0.1, 0.5, 1, 3, 5, 10], 3)"
   ]
  },
  {
   "cell_type": "code",
   "execution_count": 65,
   "id": "f355af56",
   "metadata": {},
   "outputs": [],
   "source": [
    "\n",
    "from sklearn.tree import DecisionTreeRegressor\n",
    "from sklearn.svm import SVR\n",
    "\n",
    "clf1 = Ridge()\n",
    "param_grid1 ={'alpha':[0.1, 0.3, 0.5, 1.0, 5, 10]}\n",
    "clf2 = DecisionTreeRegressor()\n",
    "param_grid2 = {'max_depth':[2, 4, 5, 6, 7, 8, 9, 10]}\n",
    "clf3 = SVR(kernel = 'poly')\n",
    "param_grid3 = {'C':[0.1, 0.3, 0.5, 1, 2, 4, 6, 10, 30, 50, 100]}\n"
   ]
  },
  {
   "cell_type": "code",
   "execution_count": 66,
   "id": "628b756e",
   "metadata": {},
   "outputs": [],
   "source": [
    "estimators = {clf1 :(clf1, param_grid1),clf2 :(clf2, param_grid2), clf3 :(clf3, param_grid3)  }"
   ]
  },
  {
   "cell_type": "code",
   "execution_count": 67,
   "id": "b7293a27",
   "metadata": {},
   "outputs": [
    {
     "data": {
      "text/plain": [
       "dict_items([(Ridge(), (Ridge(), {'alpha': [0.1, 0.3, 0.5, 1.0, 5, 10]})), (DecisionTreeRegressor(), (DecisionTreeRegressor(), {'max_depth': [2, 4, 5, 6, 7, 8, 9, 10]})), (SVR(kernel='poly'), (SVR(kernel='poly'), {'C': [0.1, 0.3, 0.5, 1, 2, 4, 6, 10, 30, 50, 100]}))])"
      ]
     },
     "execution_count": 67,
     "metadata": {},
     "output_type": "execute_result"
    }
   ],
   "source": [
    "estimators.items()"
   ]
  },
  {
   "cell_type": "code",
   "execution_count": 68,
   "id": "421a4f68",
   "metadata": {},
   "outputs": [
    {
     "data": {
      "image/png": "[encoded data removed]",
      "text/plain": [
       "<Figure size 640x480 with 1 Axes>"
      ]
     },
     "metadata": {},
     "output_type": "display_data"
    },
    {
     "data": {
      "image/png": "[encoded data removed]",
      "text/plain": [
       "<Figure size 640x480 with 1 Axes>"
      ]
     },
     "metadata": {},
     "output_type": "display_data"
    },
    {
     "data": {
      "image/png": "[encoded data removed]",
      "text/plain": [
       "<Figure size 640x480 with 1 Axes>"
      ]
     },
     "metadata": {},
     "output_type": "display_data"
    }
   ],
   "source": [
    "for x, (y,z) in estimators.items():\n",
    "    for [a, b] in z.items():\n",
    "        plot_validation_curve(y, X2, y2, a, b, 2)"
   ]
  },
  {
   "cell_type": "code",
   "execution_count": null,
   "id": "35a9558f",
   "metadata": {},
   "outputs": [],
   "source": []
  }
 ],
 "metadata": {
  "kernelspec": {
   "display_name": "Python 3 (ipykernel)",
   "language": "python",
   "name": "python3"
  },
  "language_info": {
   "codemirror_mode": {
    "name": "ipython",
    "version": 3
   },
   "file_extension": ".py",
   "mimetype": "text/x-python",
   "name": "python",
   "nbconvert_exporter": "python",
   "pygments_lexer": "ipython3",
   "version": "3.9.12"
  }
 },
 "nbformat": 4,
 "nbformat_minor": 5
}
