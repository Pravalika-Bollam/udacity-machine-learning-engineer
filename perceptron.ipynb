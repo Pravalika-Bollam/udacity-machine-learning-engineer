{
 "cells": [
  {
   "cell_type": "code",
   "execution_count": 164,
   "id": "5626e8c0",
   "metadata": {},
   "outputs": [],
   "source": [
    "import numpy as np\n",
    "\n",
    "def weight_find(inputs, outputs):\n",
    "    w1= np.random.randn()\n",
    "    w2= np.random.randn()\n",
    "    b = np.random.randn()\n",
    "    for ((x,y),z) in zip(inputs,outputs):\n",
    "        n= 0.01\n",
    "        l  = w1*x + w2*y + b\n",
    "        if l >=0:\n",
    "            o = 1\n",
    "        else:\n",
    "            o = 0\n",
    "        if o!=z:\n",
    "            w1 = w1 + n*(z-o)*x\n",
    "            w2 = w2 + n*(z-o)*y\n",
    "            b = b + n*(z-o)\n",
    "            continue\n",
    "    while o!=z:\n",
    "            w1 = w1 + n*(z-o)*x\n",
    "            w2 = w2 + n*(z-o)*y\n",
    "            b = b + n*(z-o)\n",
    "            o = 1 if w1*x+w2*y + b >=0 else 0\n",
    "\n",
    "    return w1,w2,b"
   ]
  },
  {
   "cell_type": "code",
   "execution_count": null,
   "id": "5293e3b1",
   "metadata": {},
   "outputs": [],
   "source": []
  },
  {
   "cell_type": "code",
   "execution_count": 165,
   "id": "b556bd73",
   "metadata": {},
   "outputs": [],
   "source": [
    "inputs = [(0,0),(0,1),(1,0),(1,1)]\n",
    "outputs = [0,0,0,1]"
   ]
  },
  {
   "cell_type": "code",
   "execution_count": 166,
   "id": "efb94bdf",
   "metadata": {},
   "outputs": [],
   "source": [
    "inputs_array = np.array(inputs)"
   ]
  },
  {
   "cell_type": "code",
   "execution_count": 167,
   "id": "7c5ddbfb",
   "metadata": {},
   "outputs": [
    {
     "data": {
      "text/plain": [
       "(4, 2)"
      ]
     },
     "execution_count": 167,
     "metadata": {},
     "output_type": "execute_result"
    }
   ],
   "source": [
    "inputs_array.shape"
   ]
  },
  {
   "cell_type": "code",
   "execution_count": 168,
   "id": "a55e6e85",
   "metadata": {},
   "outputs": [],
   "source": [
    "outputs_array = np.array(outputs)"
   ]
  },
  {
   "cell_type": "code",
   "execution_count": 169,
   "id": "36b5e3da",
   "metadata": {},
   "outputs": [],
   "source": [
    "inputs_0 = inputs_array[outputs_array==0]"
   ]
  },
  {
   "cell_type": "code",
   "execution_count": 170,
   "id": "95aa0fc1",
   "metadata": {},
   "outputs": [
    {
     "data": {
      "text/plain": [
       "array([[0, 0],\n",
       "       [0, 1],\n",
       "       [1, 0]])"
      ]
     },
     "execution_count": 170,
     "metadata": {},
     "output_type": "execute_result"
    }
   ],
   "source": [
    "inputs_0"
   ]
  },
  {
   "cell_type": "code",
   "execution_count": 171,
   "id": "ca878634",
   "metadata": {},
   "outputs": [],
   "source": [
    "inputs_1 = inputs_array[outputs_array == 1]"
   ]
  },
  {
   "cell_type": "code",
   "execution_count": 172,
   "id": "3ddd1ebe",
   "metadata": {},
   "outputs": [
    {
     "data": {
      "text/plain": [
       "array([[1, 1]])"
      ]
     },
     "execution_count": 172,
     "metadata": {},
     "output_type": "execute_result"
    }
   ],
   "source": [
    "inputs_1"
   ]
  },
  {
   "cell_type": "code",
   "execution_count": 173,
   "id": "3f3d52fb",
   "metadata": {},
   "outputs": [],
   "source": [
    "\n",
    "weights_bias_array = weight_find(inputs, outputs)"
   ]
  },
  {
   "cell_type": "code",
   "execution_count": 174,
   "id": "4bd00dd7",
   "metadata": {},
   "outputs": [
    {
     "data": {
      "text/plain": [
       "(-0.45803538275212846, 0.5975780855522305, 0.12975270190737262)"
      ]
     },
     "execution_count": 174,
     "metadata": {},
     "output_type": "execute_result"
    }
   ],
   "source": [
    "weights_bias_array"
   ]
  },
  {
   "cell_type": "code",
   "execution_count": 175,
   "id": "996fef21",
   "metadata": {},
   "outputs": [],
   "source": [
    "import matplotlib.pyplot as plt"
   ]
  },
  {
   "cell_type": "code",
   "execution_count": 185,
   "id": "44627912",
   "metadata": {
    "scrolled": true
   },
   "outputs": [
    {
     "data": {
      "image/png": "[encoded data removed]",
      "text/plain": [
       "<Figure size 640x480 with 1 Axes>"
      ]
     },
     "metadata": {},
     "output_type": "display_data"
    }
   ],
   "source": [
    "plt.scatter(inputs_1[:, 0], inputs_1[:, 1], color = 'b', label = 'pos')\n",
    "plt.scatter(inputs_0[:, 0], inputs_0[:,1], color = 'r', label ='neg')\n",
    "x_range = np.linspace(0, 1, 10)\n",
    "y_range= [-(weights_bias_array[0]*x + weights_bias_array[2])/weights_bias_array[1] for x in x_range]\n",
    "plt.plot(x_range, y_range, 'r-', label = 'weight vector')\n",
    "origin = [1], [0.4]\n",
    "plt.quiver(*origin, weights_bias_array[0], weights_bias_array[1], color='black', scale=5, label='decision boundary')\n",
    "plt.legend()\n",
    "plt.show()\n"
   ]
  },
  {
   "cell_type": "code",
   "execution_count": null,
   "id": "e49d15ad-ee7f-4890-8993-6deb8bd17a91",
   "metadata": {},
   "outputs": [],
   "source": []
  },
  {
   "cell_type": "code",
   "execution_count": null,
   "id": "f23c116c-ec55-4bee-af8e-e17a53ae8db3",
   "metadata": {},
   "outputs": [],
   "source": []
  },
  {
   "cell_type": "code",
   "execution_count": null,
   "id": "c65d992c-d2db-4ac3-bb46-6cf97278aaa2",
   "metadata": {},
   "outputs": [],
   "source": []
  },
  {
   "cell_type": "code",
   "execution_count": null,
   "id": "94123e52-c541-4a96-94a9-e79a5516e30b",
   "metadata": {},
   "outputs": [],
   "source": []
  },
  {
   "cell_type": "code",
   "execution_count": null,
   "id": "05859469-b590-4b55-93eb-09cdce4e9e95",
   "metadata": {},
   "outputs": [],
   "source": []
  },
  {
   "cell_type": "code",
   "execution_count": null,
   "id": "29a4ccf3-6e8c-477f-9193-36be5d749ead",
   "metadata": {},
   "outputs": [],
   "source": []
  },
  {
   "cell_type": "code",
   "execution_count": null,
   "id": "82cbb6f6-1577-4ff1-a7ca-cecd53657fdd",
   "metadata": {},
   "outputs": [],
   "source": []
  },
  {
   "cell_type": "code",
   "execution_count": null,
   "id": "76e4df9b-d8c3-4f1b-8f79-05a081ebb352",
   "metadata": {},
   "outputs": [],
   "source": []
  },
  {
   "cell_type": "code",
   "execution_count": null,
   "id": "dfef4392-a943-483d-890e-38f31646cdc1",
   "metadata": {},
   "outputs": [],
   "source": []
  },
  {
   "cell_type": "code",
   "execution_count": null,
   "id": "3f9b10da-55bb-442e-bb32-395b55e97c75",
   "metadata": {},
   "outputs": [],
   "source": []
  },
  {
   "cell_type": "code",
   "execution_count": null,
   "id": "d8e55e0a-f920-47ae-a22c-1d7473cf7a39",
   "metadata": {},
   "outputs": [],
   "source": []
  },
  {
   "cell_type": "code",
   "execution_count": null,
   "id": "deb4c7a7-1056-41b3-bb26-1e3a347b9f03",
   "metadata": {},
   "outputs": [],
   "source": []
  },
  {
   "cell_type": "code",
   "execution_count": null,
   "id": "2b00c8a5-0eee-41e0-9ef7-c1291c760268",
   "metadata": {},
   "outputs": [],
   "source": []
  },
  {
   "cell_type": "code",
   "execution_count": null,
   "id": "8ab15352-c3f3-48c9-ae2b-fb7c985b2178",
   "metadata": {},
   "outputs": [],
   "source": []
  },
  {
   "cell_type": "code",
   "execution_count": null,
   "id": "a1a463ec-a90d-4261-8b77-17798e3fe3e1",
   "metadata": {},
   "outputs": [],
   "source": []
  }
 ],
 "metadata": {
  "kernelspec": {
   "display_name": "Python 3 (ipykernel)",
   "language": "python",
   "name": "python3"
  },
  "language_info": {
   "codemirror_mode": {
    "name": "ipython",
    "version": 3
   },
   "file_extension": ".py",
   "mimetype": "text/x-python",
   "name": "python",
   "nbconvert_exporter": "python",
   "pygments_lexer": "ipython3",
   "version": "3.9.12"
  }
 },
 "nbformat": 4,
 "nbformat_minor": 5
}
